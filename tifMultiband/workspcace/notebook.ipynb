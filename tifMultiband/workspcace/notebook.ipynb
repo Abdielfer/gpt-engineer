import rasterio
import matplotlib.pyplot as plt

# Read the multiband geotiff file
file_path = "multyLayer_example.tif"
with rasterio.open(file_path) as dataset:
    image_data = dataset.read()

# Display the RGB image
rgb_image = image_data[[2, 1, 0], :, :]
plt.imshow(rgb_image.transpose(1, 2, 0))
plt.axis('off')
plt.show()
